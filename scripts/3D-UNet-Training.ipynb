{
 "cells": [
  {
   "cell_type": "markdown",
   "id": "8f5b1622",
   "metadata": {},
   "source": [
    "[![Open In Colab](https://colab.research.google.com/assets/colab-badge.svg)](https://colab.research.google.com/github/constantinpape/torch-em/blob/main/experiments/3D-UNet-Training.ipynb)"
   ]
  },
  {
   "cell_type": "markdown",
   "id": "2b5781c6",
   "metadata": {},
   "source": [
    "# 3D UNet Training\n",
    "\n",
    "This notebook implements training of a 3D UNet with `torch_em`. It implements training for affinity, boundary and foreground prediction. The training code is also customizable to enable training with a different target.\n",
    "\n",
    "The sections of this notebook are organized s.t. there is a first cell that contains the configurable parameters. These cells are marked by the comment `#CONFIGURE ME`. The following cells contain code that do not need to be changed. But if you know what you're doing you can further customize the training there.\n",
    "\n",
    "For setting up a local environment that can run `torch_em`, follow [the installation instructions](https://github.com/constantinpape/torch-em#installation). You can also run the notebook in google colab, please follow the instructions in the first section for this."
   ]
  },
  {
   "cell_type": "markdown",
   "id": "6c0304fe",
   "metadata": {},
   "source": [
    "## Google Colab\n",
    "\n",
    "Run the following cells if you are working in google colab. Skip them otherwise."
   ]
  },
  {
   "cell_type": "markdown",
   "id": "8ee44253",
   "metadata": {},
   "source": [
    "## Imports\n",
    "\n",
    "Import the required libraries, no need to change anything here."
   ]
  },
  {
   "cell_type": "code",
   "execution_count": 1,
   "id": "c72b8bcc",
   "metadata": {},
   "outputs": [
    {
     "ename": "ModuleNotFoundError",
     "evalue": "No module named 'tensorboard'",
     "output_type": "error",
     "traceback": [
      "\u001b[0;31m---------------------------------------------------------------------------\u001b[0m",
      "\u001b[0;31mModuleNotFoundError\u001b[0m                       Traceback (most recent call last)",
      "Cell \u001b[0;32mIn[1], line 3\u001b[0m\n\u001b[1;32m      1\u001b[0m \u001b[38;5;66;03m# load tensorboard extension\u001b[39;00m\n\u001b[1;32m      2\u001b[0m \u001b[38;5;66;03m# we will need this later in the notebook to monitor the training progress\u001b[39;00m\n\u001b[0;32m----> 3\u001b[0m \u001b[43mget_ipython\u001b[49m\u001b[43m(\u001b[49m\u001b[43m)\u001b[49m\u001b[38;5;241;43m.\u001b[39;49m\u001b[43mrun_line_magic\u001b[49m\u001b[43m(\u001b[49m\u001b[38;5;124;43m'\u001b[39;49m\u001b[38;5;124;43mload_ext\u001b[39;49m\u001b[38;5;124;43m'\u001b[39;49m\u001b[43m,\u001b[49m\u001b[43m \u001b[49m\u001b[38;5;124;43m'\u001b[39;49m\u001b[38;5;124;43mtensorboard\u001b[39;49m\u001b[38;5;124;43m'\u001b[39;49m\u001b[43m)\u001b[49m\n",
      "File \u001b[0;32m/mnt/lustre-emmy-ssd/projects/nim00007/data/mitochondria/.venv/lib/python3.10/site-packages/IPython/core/interactiveshell.py:2482\u001b[0m, in \u001b[0;36mInteractiveShell.run_line_magic\u001b[0;34m(self, magic_name, line, _stack_depth)\u001b[0m\n\u001b[1;32m   2480\u001b[0m     kwargs[\u001b[38;5;124m'\u001b[39m\u001b[38;5;124mlocal_ns\u001b[39m\u001b[38;5;124m'\u001b[39m] \u001b[38;5;241m=\u001b[39m \u001b[38;5;28mself\u001b[39m\u001b[38;5;241m.\u001b[39mget_local_scope(stack_depth)\n\u001b[1;32m   2481\u001b[0m \u001b[38;5;28;01mwith\u001b[39;00m \u001b[38;5;28mself\u001b[39m\u001b[38;5;241m.\u001b[39mbuiltin_trap:\n\u001b[0;32m-> 2482\u001b[0m     result \u001b[38;5;241m=\u001b[39m \u001b[43mfn\u001b[49m\u001b[43m(\u001b[49m\u001b[38;5;241;43m*\u001b[39;49m\u001b[43margs\u001b[49m\u001b[43m,\u001b[49m\u001b[43m \u001b[49m\u001b[38;5;241;43m*\u001b[39;49m\u001b[38;5;241;43m*\u001b[39;49m\u001b[43mkwargs\u001b[49m\u001b[43m)\u001b[49m\n\u001b[1;32m   2484\u001b[0m \u001b[38;5;66;03m# The code below prevents the output from being displayed\u001b[39;00m\n\u001b[1;32m   2485\u001b[0m \u001b[38;5;66;03m# when using magics with decorator @output_can_be_silenced\u001b[39;00m\n\u001b[1;32m   2486\u001b[0m \u001b[38;5;66;03m# when the last Python token in the expression is a ';'.\u001b[39;00m\n\u001b[1;32m   2487\u001b[0m \u001b[38;5;28;01mif\u001b[39;00m \u001b[38;5;28mgetattr\u001b[39m(fn, magic\u001b[38;5;241m.\u001b[39mMAGIC_OUTPUT_CAN_BE_SILENCED, \u001b[38;5;28;01mFalse\u001b[39;00m):\n",
      "File \u001b[0;32m/mnt/lustre-emmy-ssd/projects/nim00007/data/mitochondria/.venv/lib/python3.10/site-packages/IPython/core/magics/extension.py:33\u001b[0m, in \u001b[0;36mExtensionMagics.load_ext\u001b[0;34m(self, module_str)\u001b[0m\n\u001b[1;32m     31\u001b[0m \u001b[38;5;28;01mif\u001b[39;00m \u001b[38;5;129;01mnot\u001b[39;00m module_str:\n\u001b[1;32m     32\u001b[0m     \u001b[38;5;28;01mraise\u001b[39;00m UsageError(\u001b[38;5;124m'\u001b[39m\u001b[38;5;124mMissing module name.\u001b[39m\u001b[38;5;124m'\u001b[39m)\n\u001b[0;32m---> 33\u001b[0m res \u001b[38;5;241m=\u001b[39m \u001b[38;5;28;43mself\u001b[39;49m\u001b[38;5;241;43m.\u001b[39;49m\u001b[43mshell\u001b[49m\u001b[38;5;241;43m.\u001b[39;49m\u001b[43mextension_manager\u001b[49m\u001b[38;5;241;43m.\u001b[39;49m\u001b[43mload_extension\u001b[49m\u001b[43m(\u001b[49m\u001b[43mmodule_str\u001b[49m\u001b[43m)\u001b[49m\n\u001b[1;32m     35\u001b[0m \u001b[38;5;28;01mif\u001b[39;00m res \u001b[38;5;241m==\u001b[39m \u001b[38;5;124m'\u001b[39m\u001b[38;5;124malready loaded\u001b[39m\u001b[38;5;124m'\u001b[39m:\n\u001b[1;32m     36\u001b[0m     \u001b[38;5;28mprint\u001b[39m(\u001b[38;5;124m\"\u001b[39m\u001b[38;5;124mThe \u001b[39m\u001b[38;5;132;01m%s\u001b[39;00m\u001b[38;5;124m extension is already loaded. To reload it, use:\u001b[39m\u001b[38;5;124m\"\u001b[39m \u001b[38;5;241m%\u001b[39m module_str)\n",
      "File \u001b[0;32m/mnt/lustre-emmy-ssd/projects/nim00007/data/mitochondria/.venv/lib/python3.10/site-packages/IPython/core/extensions.py:62\u001b[0m, in \u001b[0;36mExtensionManager.load_extension\u001b[0;34m(self, module_str)\u001b[0m\n\u001b[1;32m     55\u001b[0m \u001b[38;5;250m\u001b[39m\u001b[38;5;124;03m\"\"\"Load an IPython extension by its module name.\u001b[39;00m\n\u001b[1;32m     56\u001b[0m \n\u001b[1;32m     57\u001b[0m \u001b[38;5;124;03mReturns the string \"already loaded\" if the extension is already loaded,\u001b[39;00m\n\u001b[1;32m     58\u001b[0m \u001b[38;5;124;03m\"no load function\" if the module doesn't have a load_ipython_extension\u001b[39;00m\n\u001b[1;32m     59\u001b[0m \u001b[38;5;124;03mfunction, or None if it succeeded.\u001b[39;00m\n\u001b[1;32m     60\u001b[0m \u001b[38;5;124;03m\"\"\"\u001b[39;00m\n\u001b[1;32m     61\u001b[0m \u001b[38;5;28;01mtry\u001b[39;00m:\n\u001b[0;32m---> 62\u001b[0m     \u001b[38;5;28;01mreturn\u001b[39;00m \u001b[38;5;28;43mself\u001b[39;49m\u001b[38;5;241;43m.\u001b[39;49m\u001b[43m_load_extension\u001b[49m\u001b[43m(\u001b[49m\u001b[43mmodule_str\u001b[49m\u001b[43m)\u001b[49m\n\u001b[1;32m     63\u001b[0m \u001b[38;5;28;01mexcept\u001b[39;00m \u001b[38;5;167;01mModuleNotFoundError\u001b[39;00m:\n\u001b[1;32m     64\u001b[0m     \u001b[38;5;28;01mif\u001b[39;00m module_str \u001b[38;5;129;01min\u001b[39;00m BUILTINS_EXTS:\n",
      "File \u001b[0;32m/mnt/lustre-emmy-ssd/projects/nim00007/data/mitochondria/.venv/lib/python3.10/site-packages/IPython/core/extensions.py:77\u001b[0m, in \u001b[0;36mExtensionManager._load_extension\u001b[0;34m(self, module_str)\u001b[0m\n\u001b[1;32m     75\u001b[0m \u001b[38;5;28;01mwith\u001b[39;00m \u001b[38;5;28mself\u001b[39m\u001b[38;5;241m.\u001b[39mshell\u001b[38;5;241m.\u001b[39mbuiltin_trap:\n\u001b[1;32m     76\u001b[0m     \u001b[38;5;28;01mif\u001b[39;00m module_str \u001b[38;5;129;01mnot\u001b[39;00m \u001b[38;5;129;01min\u001b[39;00m sys\u001b[38;5;241m.\u001b[39mmodules:\n\u001b[0;32m---> 77\u001b[0m         mod \u001b[38;5;241m=\u001b[39m \u001b[43mimport_module\u001b[49m\u001b[43m(\u001b[49m\u001b[43mmodule_str\u001b[49m\u001b[43m)\u001b[49m\n\u001b[1;32m     78\u001b[0m     mod \u001b[38;5;241m=\u001b[39m sys\u001b[38;5;241m.\u001b[39mmodules[module_str]\n\u001b[1;32m     79\u001b[0m     \u001b[38;5;28;01mif\u001b[39;00m \u001b[38;5;28mself\u001b[39m\u001b[38;5;241m.\u001b[39m_call_load_ipython_extension(mod):\n",
      "File \u001b[0;32m/mnt/lustre-grete/usr/u15001/micromamba/envs/csc-10/lib/python3.10/importlib/__init__.py:126\u001b[0m, in \u001b[0;36mimport_module\u001b[0;34m(name, package)\u001b[0m\n\u001b[1;32m    124\u001b[0m             \u001b[38;5;28;01mbreak\u001b[39;00m\n\u001b[1;32m    125\u001b[0m         level \u001b[38;5;241m+\u001b[39m\u001b[38;5;241m=\u001b[39m \u001b[38;5;241m1\u001b[39m\n\u001b[0;32m--> 126\u001b[0m \u001b[38;5;28;01mreturn\u001b[39;00m \u001b[43m_bootstrap\u001b[49m\u001b[38;5;241;43m.\u001b[39;49m\u001b[43m_gcd_import\u001b[49m\u001b[43m(\u001b[49m\u001b[43mname\u001b[49m\u001b[43m[\u001b[49m\u001b[43mlevel\u001b[49m\u001b[43m:\u001b[49m\u001b[43m]\u001b[49m\u001b[43m,\u001b[49m\u001b[43m \u001b[49m\u001b[43mpackage\u001b[49m\u001b[43m,\u001b[49m\u001b[43m \u001b[49m\u001b[43mlevel\u001b[49m\u001b[43m)\u001b[49m\n",
      "File \u001b[0;32m<frozen importlib._bootstrap>:1050\u001b[0m, in \u001b[0;36m_gcd_import\u001b[0;34m(name, package, level)\u001b[0m\n",
      "File \u001b[0;32m<frozen importlib._bootstrap>:1027\u001b[0m, in \u001b[0;36m_find_and_load\u001b[0;34m(name, import_)\u001b[0m\n",
      "File \u001b[0;32m<frozen importlib._bootstrap>:1004\u001b[0m, in \u001b[0;36m_find_and_load_unlocked\u001b[0;34m(name, import_)\u001b[0m\n",
      "\u001b[0;31mModuleNotFoundError\u001b[0m: No module named 'tensorboard'"
     ]
    }
   ],
   "source": [
    "# load tensorboard extension\n",
    "# we will need this later in the notebook to monitor the training progress\n",
    "%load_ext tensorboard"
   ]
  },
  {
   "cell_type": "code",
   "execution_count": 4,
   "id": "92be7f1c",
   "metadata": {},
   "outputs": [
    {
     "ename": "ModuleNotFoundError",
     "evalue": "No module named 'numpy'",
     "output_type": "error",
     "traceback": [
      "\u001b[0;31m---------------------------------------------------------------------------\u001b[0m",
      "\u001b[0;31mModuleNotFoundError\u001b[0m                       Traceback (most recent call last)",
      "Cell \u001b[0;32mIn[4], line 1\u001b[0m\n\u001b[0;32m----> 1\u001b[0m \u001b[38;5;28;01mimport\u001b[39;00m\u001b[38;5;250m \u001b[39m\u001b[38;5;21;01mnumpy\u001b[39;00m\u001b[38;5;250m \u001b[39m\u001b[38;5;28;01mas\u001b[39;00m\u001b[38;5;250m \u001b[39m\u001b[38;5;21;01mnp\u001b[39;00m\n\u001b[1;32m      2\u001b[0m \u001b[38;5;28;01mimport\u001b[39;00m\u001b[38;5;250m \u001b[39m\u001b[38;5;21;01mtorch\u001b[39;00m\u001b[38;5;21;01m.\u001b[39;00m\u001b[38;5;21;01mnn\u001b[39;00m\u001b[38;5;250m \u001b[39m\u001b[38;5;28;01mas\u001b[39;00m\u001b[38;5;250m \u001b[39m\u001b[38;5;21;01mnn\u001b[39;00m\n\u001b[1;32m      3\u001b[0m \u001b[38;5;28;01mimport\u001b[39;00m\u001b[38;5;250m \u001b[39m\u001b[38;5;21;01mtorch_em\u001b[39;00m\n",
      "\u001b[0;31mModuleNotFoundError\u001b[0m: No module named 'numpy'"
     ]
    }
   ],
   "source": [
    "import numpy as np\n",
    "import torch.nn as nn\n",
    "import torch_em\n",
    "import torch_em.data.datasets as torchem_data\n",
    "from torch_em.model import AnisotropicUNet\n",
    "from torch_em.util.debug import check_loader, check_trainer"
   ]
  },
  {
   "cell_type": "markdown",
   "id": "0b14817f",
   "metadata": {},
   "source": [
    "## Training Data\n",
    "\n",
    "Choose the dataset for training. You have two options here: choose a preconfigured dataset or specify the filepaths to your training data.\n",
    "\n",
    "For preconfigured datasets `torch_em` implements download and default pre-processing already. The following pre-configured datasets are currently available:\n",
    "- `cremi`: Neural tissue imaged in electron microscopy.\n",
    "- `mitoem`: Mitochondria imaged in electron microscopy.\n",
    "- `patynereis-cells`: Platynereis cells imaged in electron microscopy.\n",
    "- `patynereis-nuclei`: Platynereis nuclei imaged in electron microscopy.\n",
    "- `snemi`: Neural tissue imaged in electron microscopy.\n",
    "\n",
    "If you're unsure if one of these datasets is suitable for you, just select it and continue to `Check training data` with the default settings in the next sections. You will see example images from the data there.\n",
    "\n",
    "You can also load the training data from local files. `torch_em` supports loading 3d data from hdf5, zarr or n5. For this:\n",
    "- set `data_paths` to the filepath of the volumetric image data and `label_paths` to the path of the volumetric label data stack; you can also provide a list of file paths if you have multiple stacks\n",
    "- set `data_key` and `label_key` to the corresponding paths in file.\n",
    "    \n",
    "You can find an example for using a custom dataset in the comments below.\n",
    "\n",
    "You also need to choose `patch_shape`, which determines the size of the patches used for training, here."
   ]
  },
  {
   "cell_type": "code",
   "execution_count": 5,
   "id": "968006e6",
   "metadata": {},
   "outputs": [],
   "source": [
    "# CONFIGURE ME\n",
    "\n",
    "#\n",
    "# use a pre-configured dataset\n",
    "#\n",
    "\n",
    "# Specify a pre-configured dataset. Set to `None` in order to specify the training data via file-paths instead.\n",
    "preconfigured_dataset = None\n",
    "\n",
    "# example: use the pre-configured `snemi` dataset\n",
    "# preconfigured_dataset = \"snemi\"\n",
    "\n",
    "# Where to download the training data (the data will be downloaded only once).\n",
    "# If you work in google colab you may want to adapt this path to be on your google drive, in order\n",
    "# to not loose the data after each session.\n",
    "download_folder = f\"./training_data/{preconfigured_dataset}\"\n",
    "\n",
    "#\n",
    "# use a custom dataset\n",
    "#\n",
    "\n",
    "# Create a custom dataset from local data by specifiying the paths for training data, training labels\n",
    "# as well as validation data and validation labels\n",
    "train_data_paths = []\n",
    "val_data_paths = []\n",
    "data_key = \"\"\n",
    "train_label_paths = []\n",
    "val_label_paths = []\n",
    "label_key = \"\"\n",
    "\n",
    "# In addition you can also specify region of interests for training using the normal python slice syntax\n",
    "train_rois = None\n",
    "val_rois = None\n",
    "\n",
    "# example: Use training data and labels stored as a single stack in an hdf5 file.\n",
    "# This example is formulated using the data from the `snemi` dataset,\n",
    "# which stores the raw data in `/raw` and the labels in `/labels/mitochondria`.\n",
    "# Note that we use roi's here to get separate training and val data from the same file.\n",
    "# train_data_paths etc. can also be lists in order to train from multiple stacks.\n",
    "\n",
    "# train_data_paths = train_label_paths = val_data_paths = val_label_paths = \"./training_data/snemi/snemi_train.h5\"\n",
    "# data_key = \"volumes/raw\"\n",
    "# label_key = \"volumes/labels/neuron_ids\"\n",
    "# train_rois = np.s_[:68, :, :]\n",
    "# val_rois = np.s_[68:, :, :]\n",
    "# patch_shape = (32, 256, 256)\n",
    "\n",
    "#\n",
    "# choose the patch shape\n",
    "#\n",
    "patch_shape = (32, 256, 256)"
   ]
  },
  {
   "cell_type": "code",
   "execution_count": null,
   "id": "436c227f",
   "metadata": {},
   "outputs": [],
   "source": [
    "dataset_names = [\n",
    "    \"cremi\", \"mitoem\", \"platynereis-cells\", \"platynereis-nuclei\", \"snemi\"\n",
    "]\n",
    "\n",
    "def check_data(data_paths, label_paths, rois):\n",
    "    print(\"Loading the raw data from:\", data_paths, data_key)\n",
    "    print(\"Loading the labels from:\", label_paths, label_key)\n",
    "    try:\n",
    "        torch_em.default_segmentation_dataset(data_paths, data_key, label_paths, label_key, patch_shape, rois=rois)\n",
    "    except Exception as e:\n",
    "        print(\"Loading the dataset failed with:\")\n",
    "        raise e\n",
    "\n",
    "if preconfigured_dataset is None:\n",
    "    print(\"Using a custom dataset:\")\n",
    "    print(\"Checking the training dataset:\")\n",
    "    check_data(train_data_paths, train_label_paths, train_rois)\n",
    "    check_data(val_data_paths, val_label_paths, val_rois)\n",
    "else:\n",
    "    assert preconfigured_dataset in dataset_names, f\"Invalid pre-configured dataset: {preconfigured_dataset}, choose one of {dataset_names}.\"\n",
    "\n",
    "assert len(patch_shape) == 3"
   ]
  },
  {
   "cell_type": "markdown",
   "id": "70f4b659",
   "metadata": {},
   "source": [
    "## Network output\n",
    "\n",
    "Choose the transformations applied to your label data in order to generate the network target data. If your labels can be fed to the network directly you don't need to do anything here. Otherwise, you can choose between the following transformations:\n",
    "- `foreground`: transforms labels into a binary target\n",
    "- `affinities`: transforms labels into affinity target\n",
    "- `boundaries`: transforms labels into boundary target\n",
    "\n",
    "Note that `affinities` and `boundaries` are mutually exclusive; `foreground` can be combined with the two other transformations. All three transformations are implemented to be applied to *instance labels*. See the screenshot below for an illustration of the expected input and the result of these transformations. You will see their result for your own datain in `Check training data`.\n",
    "\n",
    "![targets](misc/targets.png)"
   ]
  },
  {
   "cell_type": "code",
   "execution_count": null,
   "id": "a6f1e790",
   "metadata": {},
   "outputs": [],
   "source": [
    "# CONFIGURE ME\n",
    "\n",
    "# Whether to add a foreground channel (1 for all labels that are not zero) to the target.\n",
    "foreground = False\n",
    "# Whether to add affinity channels (= directed boundaries) or a boundary channel to the target.\n",
    "# Note that you can choose at most of these two options.\n",
    "affinities = False\n",
    "boundaries = False\n",
    "\n",
    "# the pixel offsets that are used to compute the affinity channels\n",
    "offsets = [\n",
    "    [-1, 0, 0], [0, -1, 0], [0, 0, -1],\n",
    "    [-2, 0, 0], [0, -3, 0], [0, 0, -3],\n",
    "    [-3, 0, 0], [0, -9, 0], [0, 0, -9]\n",
    "]"
   ]
  },
  {
   "cell_type": "code",
   "execution_count": null,
   "id": "fa04e8e0",
   "metadata": {},
   "outputs": [],
   "source": [
    "assert not (affinities and boundaries), \"Predicting both affinities and boundaries is not supported\"\n",
    "\n",
    "label_transform, label_transform2 = None, None\n",
    "if affinities:\n",
    "    label_transform2 = torch_em.transform.label.AffinityTransform(\n",
    "        offsets=offsets, add_binary_target=foreground, add_mask=True\n",
    "    )\n",
    "elif boundaries:\n",
    "    label_transform = torch_em.transform.label.BoundaryTransform(\n",
    "        add_binary_target=foreground\n",
    "    )\n",
    "elif foreground:\n",
    "    label_transform = torch_em.transform.label.labels_to_binary"
   ]
  },
  {
   "cell_type": "markdown",
   "id": "ff3bcb05",
   "metadata": {},
   "source": [
    "## Loss, metric & batch size\n",
    "\n",
    "Choose important training parameters:\n",
    "\n",
    "- `loss`: the loss function; can be one of `\"bce\", \"ce\", \"dice\"` (binary cross entropy, cross entropy, dice) or a torch module\n",
    "- `metric`: the metric used for the validation data; same options as for `loss`\n",
    "- `batch_size`: the training batch size\n",
    "\n",
    "If you're unsure about these settings just use the default values, they are probably ok."
   ]
  },
  {
   "cell_type": "code",
   "execution_count": null,
   "id": "76bef2e1",
   "metadata": {},
   "outputs": [],
   "source": [
    "# CONFIGURE ME\n",
    "batch_size = 1\n",
    "loss = \"dice\"\n",
    "metric = \"dice\""
   ]
  },
  {
   "cell_type": "code",
   "execution_count": null,
   "id": "33a4ba21",
   "metadata": {},
   "outputs": [],
   "source": [
    "def get_loss(loss_name):\n",
    "    loss_names = [\"bce\", \"ce\", \"dice\"]\n",
    "    if isinstance(loss_name, str):\n",
    "        assert loss_name in loss_names, f\"{loss_name}, {loss_names}\"\n",
    "        if loss_name == \"dice\":\n",
    "            loss_function = torch_em.loss.DiceLoss()\n",
    "        elif loss == \"ce\":\n",
    "            loss_function = nn.CrossEntropyLoss()\n",
    "        elif loss == \"bce\":\n",
    "            loss_function = nn.BCEWithLogitsLoss()\n",
    "    else:\n",
    "        loss_function = loss_name\n",
    "    \n",
    "    # we need to add a loss wrapper for affinities\n",
    "    if affinities:\n",
    "        loss_function = torch_em.loss.LossWrapper(\n",
    "            loss_function, transform=torch_em.loss.ApplyAndRemoveMask()\n",
    "        )\n",
    "    return loss_function\n",
    "\n",
    "\n",
    "loss_function = get_loss(loss)\n",
    "metric_function = get_loss(metric)\n",
    "\n",
    "kwargs = dict(\n",
    "    ndim=3, patch_shape=patch_shape, batch_size=batch_size,\n",
    "    label_transform=label_transform, label_transform2=label_transform2\n",
    ")\n",
    "ds = preconfigured_dataset\n",
    "\n",
    "# TODO add support for plantseg loader\n",
    "if ds is None:\n",
    "    train_loader = torch_em.default_segmentation_loader(\n",
    "        train_data_paths, data_key, train_label_paths, label_key,\n",
    "        rois=train_rois, **kwargs\n",
    "    )\n",
    "    val_loader = torch_em.default_segmentation_loader(\n",
    "        val_data_paths, data_key, val_label_paths, label_key,\n",
    "        rois=val_rois, **kwargs\n",
    "    )\n",
    "else:\n",
    "    kwargs.update(dict(download=True))\n",
    "    if ds == \"cremi\":\n",
    "        assert not foreground, \"Foreground prediction for neuron segmentation does not make sense, please change these setings\"\n",
    "        train_samples = (\"A\", \"B\", \"C\")\n",
    "        val_samples = (\"C\",)\n",
    "        train_rois = (np.s_[:, :, :], np.s_[:, :, :], np.s_[:75, :, :])\n",
    "        val_rois = (np.s_[75:, :, :],)\n",
    "        train_loader = torchem_data.get_cremi_loader(download_folder, samples=train_samples, rois=train_rois, **kwargs)\n",
    "        val_loader = torchem_data.get_cremi_loader(download_folder, samples=val_samples, rois=val_rois, **kwargs)\n",
    "    elif ds == \"mitoem\":\n",
    "        train_loader = torchem_data.get_mitoem_loader(download_folder, splits=\"train\", **kwargs)\n",
    "        val_loader = torchem_data.get_mitoem_loader(download_folder, splits=\"val\", **kwargs)\n",
    "    elif ds == \"platynereis-cells\":\n",
    "        train_samples = list(range(1, 10))\n",
    "        val_samples = [9]\n",
    "        train_rois = {9: np.s_[:, :600, :]}\n",
    "        val_rois = {9: np.s_[:, 600:, :]}\n",
    "        train_loader = torchem_data.get_platynereis_cell_loader(\n",
    "            download_folder, sample_ids=train_samples, rois=train_rois, **kwargs\n",
    "        )\n",
    "        val_loader = torchem_data.get_platynereis_cell_loader(\n",
    "            download_folder, sample_ids=val_samples, rois=val_rois, **kwargs\n",
    "        )\n",
    "    elif ds == \"platynereis-nuclei\":\n",
    "        train_samples = [1, 3, 6, 7, 8, 9, 10, 11, 12]\n",
    "        val_samples = [2, 4]\n",
    "        train_loader = torchem_data.get_platynereis_nuclei_loader(\n",
    "            download_folder, sample_ids=train_samples, **kwargs\n",
    "        )\n",
    "        val_loader = torchem_data.get_platynereis_nuclei_loader(\n",
    "            download_folder, sample_ids=val_samples, **kwargs\n",
    "        )\n",
    "    elif ds == \"snemi\":\n",
    "        assert not foreground, \"Foreground prediction for neuron segmentation does not make sense, please change these setings\"\n",
    "        n_slices = 100\n",
    "        z = n_slices - patch_shape[0]\n",
    "        train_roi, val_roi = np.s_[:z, :, :], np.s_[z:, :, :]\n",
    "        train_loader = torchem_data.get_snemi_loader(download_folder, sample=\"train\", rois=train_roi, **kwargs)\n",
    "        val_loader = torchem_data.get_snemi_loader(download_folder, sample=\"train\", rois=val_roi, **kwargs)\n",
    "\n",
    "assert train_loader is not None, \"Something went wrong\"\n",
    "assert val_loader is not None, \"Something went wrong\""
   ]
  },
  {
   "cell_type": "markdown",
   "id": "7ef2cc6f",
   "metadata": {},
   "source": [
    "## Check training data\n",
    "\n",
    "Check the output from your data loader. It consists of the input data for your network and the target data.\n",
    "You should check that the target looks reasonable."
   ]
  },
  {
   "cell_type": "code",
   "execution_count": null,
   "id": "445bb0c3",
   "metadata": {},
   "outputs": [],
   "source": [
    "# CONFIGURE ME\n",
    "\n",
    "# Choose the number of samples to check per loader.\n",
    "n_samples = 2\n",
    "\n",
    "# Whether to use napari or matplotlib to view the training data.\n",
    "# Napari can display 3d volumes, but it might not be installed by default and is not available on google colab.\n",
    "use_napari = False"
   ]
  },
  {
   "cell_type": "code",
   "execution_count": null,
   "id": "1d5d5f12",
   "metadata": {},
   "outputs": [],
   "source": [
    "try:\n",
    "    import napari\n",
    "except Exception:\n",
    "    print(\"use_napari was set to True, but napari is not availabel, using matplotlib as fallback solution\")\n",
    "    use_napari = False\n",
    "\n",
    "print(\"Training samples\")\n",
    "check_loader(train_loader, n_samples, plt=not use_napari)\n",
    "print(\"Validation samples\")\n",
    "check_loader(val_loader, n_samples, plt=not use_napari)"
   ]
  },
  {
   "cell_type": "markdown",
   "id": "bd5f1b55",
   "metadata": {},
   "source": [
    "## Network architecture\n",
    "\n",
    "Choose the important network architecture parameters for the 2d UNet:\n",
    "- `scale_factors`: the down/upscaling factors between each encoder/decoder level. This is specified as a list of 3d scale factors, which enables anisotropic scaling. See the example in the comments for details.\n",
    "- `initial_features`: the number of features in the first encoder level, the number will be doubled for each level\n",
    "- `final_activation`: the activation applied to the UNet output\n",
    "- `in_channels`: the number of input channels (= number of channels of the raw data)\n",
    "- `out_channels`: the number of output channels (usually the number of target channels)\n",
    "\n",
    "If you're unsure about these settings just use the default values, they are probably ok."
   ]
  },
  {
   "cell_type": "code",
   "execution_count": null,
   "id": "21b899e7",
   "metadata": {},
   "outputs": [],
   "source": [
    "# CONFIGURE ME\n",
    "\n",
    "# example for isotropic scaling with a depth of 4\n",
    "# scale_factors = 4 * [[2, 2, 2]]\n",
    "\n",
    "# example for 4 levels with anisotropic scaling in the first two levels (scale only in xy)\n",
    "scale_factors = [[1, 2, 2], [1, 2, 2], [2, 2, 2], [2, 2, 2]]\n",
    "\n",
    "initial_features = 32\n",
    "final_activation = None\n",
    "\n",
    "# If you leave the in/out_channels as None an attempt will be made to automatically deduce these numbers. \n",
    "in_channels = None\n",
    "out_channels = None"
   ]
  },
  {
   "cell_type": "code",
   "execution_count": null,
   "id": "2b3e93cf",
   "metadata": {},
   "outputs": [],
   "source": [
    "if final_activation is None and loss == \"dice\":\n",
    "    final_activation = \"Sigmoid\"\n",
    "    print(\"Adding a sigmoid activation because we are using dice loss\")\n",
    "\n",
    "if in_channels is None:\n",
    "    in_channels = 1\n",
    "\n",
    "if out_channels is None:\n",
    "    if affinities:\n",
    "        n_off = len(offsets)\n",
    "        out_channels = n_off + 1 if foreground else n_off\n",
    "    elif boundaries:\n",
    "        out_channels = 2 if foreground else 1\n",
    "    elif foreground:\n",
    "        out_channels = 1\n",
    "    assert out_channels is not None, \"The number of out channels could not be deduced automatically. Please set it manually in the cell above.\"\n",
    "\n",
    "print(\"Creating 3d UNet with\", in_channels, \"input channels and\", out_channels, \"output channels.\")\n",
    "model = AnisotropicUNet(\n",
    "    in_channels=in_channels, out_channels=out_channels, scale_factors=scale_factors, final_activation=final_activation\n",
    ")"
   ]
  },
  {
   "cell_type": "markdown",
   "id": "85d6f2e9",
   "metadata": {},
   "source": [
    "## Tensorboard\n",
    "\n",
    "Start the tensorboard in order to keep track of the training progress."
   ]
  },
  {
   "cell_type": "code",
   "execution_count": null,
   "id": "4b94a0d0",
   "metadata": {},
   "outputs": [],
   "source": [
    "%tensorboard --logdir logs"
   ]
  },
  {
   "cell_type": "markdown",
   "id": "95456878",
   "metadata": {},
   "source": [
    "## Training\n",
    "\n",
    "Choose additional training parameter:\n",
    "- `experiment_name`: the name for this training run, which will be used for naming the checkpoint for this model and for identifying the model in tensorboard.\n",
    "- `n_iterations`: number of iterations to train for.\n",
    "- `learning_rate`: the learning rate for gradient based updates.\n",
    "\n",
    "This also starts the training!\n",
    "\n",
    "**Important:** If you're on google colab the checkpoint will not be saved permanently. To save it you will need to copy the local folder `checkpoints` to your google drive."
   ]
  },
  {
   "cell_type": "code",
   "execution_count": null,
   "id": "f4168785",
   "metadata": {},
   "outputs": [],
   "source": [
    "# CONFIGURE ME\n",
    "experiment_name = \"my-shiny-net\"\n",
    "n_iterations = 10000\n",
    "learning_rate = 1.0e-4"
   ]
  },
  {
   "cell_type": "code",
   "execution_count": null,
   "id": "738cd81a",
   "metadata": {},
   "outputs": [],
   "source": [
    "# IMPORTANT! if your session on google colab crashes here, you will need to uncomment the 'logger=None' comment\n",
    "# in this case you can't use tensorboard, but everything else will work as expected\n",
    "# (this happens due to incompatible google protobuf versions and I don't have time to fix this right now)\n",
    "trainer = torch_em.default_segmentation_trainer(\n",
    "    name=experiment_name, model=model,\n",
    "    train_loader=train_loader, val_loader=val_loader,\n",
    "    loss=loss_function, metric=metric_function,\n",
    "    learning_rate=learning_rate,\n",
    "    mixed_precision=True,\n",
    "    log_image_interval=50,\n",
    "    # logger=None\n",
    ")\n",
    "trainer.fit(n_iterations)"
   ]
  },
  {
   "cell_type": "markdown",
   "id": "21c0b67f",
   "metadata": {},
   "source": [
    "## Check trained network\n",
    "\n",
    "Look at predictions from the trained network and their comparison to the target."
   ]
  },
  {
   "cell_type": "code",
   "execution_count": null,
   "id": "e949a598",
   "metadata": {},
   "outputs": [],
   "source": [
    "# CONFIGURE ME\n",
    "\n",
    "# Choose the number of samples to check.\n",
    "n_samples = 2\n",
    "\n",
    "# Whether to use napari or matplotlib to view the training data.\n",
    "# Napari can display 3d volumes, but it might not be installed by default and is not available on google colab.\n",
    "use_napari = False"
   ]
  },
  {
   "cell_type": "code",
   "execution_count": null,
   "id": "cd229f14",
   "metadata": {},
   "outputs": [],
   "source": [
    "try:\n",
    "    import napari\n",
    "except Exception:\n",
    "    print(\"use_napari was set to True, but napari is not availabel, using matplotlib as fallback solution\")\n",
    "    use_napari = False\n",
    "\n",
    "check_trainer(trainer, n_samples, plt=not use_napari)"
   ]
  },
  {
   "cell_type": "markdown",
   "id": "ae96b202",
   "metadata": {},
   "source": [
    "## Export network to bioimage.io format\n",
    "\n",
    "Finally, you can export the trained model in the format compatible with [BioImage.IO](https://bioimage.io/#/), a modelzoo for bioimage analysis. After exporting, you can upload the model there to share it with other researchers.\n",
    "You only need to configure where to save the model via `export_folder` and whether to convert it to additional formats via `additional_weight_formats` and you will be prompted to enter additional information when you run the second cell. You should also write some documentation for the model in `doc`."
   ]
  },
  {
   "cell_type": "code",
   "execution_count": null,
   "id": "183b5afc",
   "metadata": {},
   "outputs": [],
   "source": [
    "# CONFIGURE ME\n",
    "\n",
    "# The folder where the bioimageio model will be saved (as a .zip file).\n",
    "# If you run in google colab you should adapt this path to your google drive so that you can download the saved model.\n",
    "export_folder = \"./my-fancy-bio-model\"\n",
    "\n",
    "# Whether to convert the model weights to additional formats.\n",
    "# Currently, torchscript and onnx are support it and this will enable running the model\n",
    "# in more software tools.\n",
    "additional_weight_formats = None\n",
    "# additional_weight_formats = [\"torchscript\"]\n",
    "\n",
    "doc = None\n",
    "# write some markdown documentation like this, otherwise a default documentation text will be used\n",
    "# doc = \"\"\"#My Fancy Model\n",
    "# This is a fancy model to segment shiny objects in images.\n",
    "# \"\"\""
   ]
  },
  {
   "cell_type": "code",
   "execution_count": null,
   "id": "c88f6f42",
   "metadata": {},
   "outputs": [],
   "source": [
    "import torch_em.util.modelzoo\n",
    "\n",
    "for_dij = additional_weight_formats is not None and \"torchscript\" in additional_weight_formats\n",
    "\n",
    "training_data = None\n",
    "if preconfigured_dataset is not None:\n",
    "    if preconfigured_dataset.startswith(\"platynereis\"):\n",
    "        data_id = torchem_data.get_bioimageio_dataset_id(\"platynereis\")\n",
    "    else:\n",
    "        data_id = torchem_data.get_bioimageio_dataset_id(preconfigured_dataset)\n",
    "    if data_id:\n",
    "        training_data = {\"id\": data_id}\n",
    "\n",
    "pred_str = \"\"\n",
    "if affinities:\n",
    "    pred_str = \"affinities and foreground probabilities\" if foreground else \"affinities\"\n",
    "elif boundaries:\n",
    "    pred_str = \"boundary and foreground probabilities\" if foreground else \"boundaries\"\n",
    "elif foreground:\n",
    "    pred_str = \"foreground\"\n",
    "\n",
    "default_doc = f\"\"\"#{experiment_name}\n",
    "\n",
    "This model was trained with [the torch_em 3d UNet notebook](https://github.com/constantinpape/torch-em/blob/main/experiments/3D-UNet-Training.ipynb).\n",
    "\"\"\"\n",
    "if pred_str:\n",
    "    default_doc += f\"It predicts {pred_str}.\\n\"\n",
    "\n",
    "training_summary = torch_em.util.get_training_summary(trainer, to_md=True, lr=learning_rate)\n",
    "default_doc += f\"\"\"## Training Schedule\n",
    "\n",
    "{training_summary}\n",
    "\"\"\"\n",
    "\n",
    "if doc is None:\n",
    "    doc = default_doc\n",
    "\n",
    "torch_em.util.modelzoo.export_bioimageio_model(\n",
    "    trainer, export_folder, input_optional_parameters=True,\n",
    "    for_deepimagej=for_dij, training_data=training_data, documentation=doc\n",
    ")\n",
    "torch_em.util.modelzoo.add_weight_formats(export_folder, additional_weight_formats)"
   ]
  }
 ],
 "metadata": {
  "kernelspec": {
   "display_name": ".venv",
   "language": "python",
   "name": "python3"
  },
  "language_info": {
   "codemirror_mode": {
    "name": "ipython",
    "version": 3
   },
   "file_extension": ".py",
   "mimetype": "text/x-python",
   "name": "python",
   "nbconvert_exporter": "python",
   "pygments_lexer": "ipython3",
   "version": "3.10.0"
  }
 },
 "nbformat": 4,
 "nbformat_minor": 5
}
